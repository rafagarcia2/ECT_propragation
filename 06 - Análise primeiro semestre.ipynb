{
 "cells": [
  {
   "cell_type": "markdown",
   "metadata": {},
   "source": [
    "# Análisando o Primeiro Semestre\n",
    "Gerando resultados a partir dos dados dos discentes do Primeiro Bimestre"
   ]
  },
  {
   "cell_type": "code",
   "execution_count": 1,
   "metadata": {},
   "outputs": [],
   "source": [
    "import pandas as pd\n",
    "import numpy as np"
   ]
  },
  {
   "cell_type": "code",
   "execution_count": 6,
   "metadata": {},
   "outputs": [],
   "source": [
    "matr_1 = pd.read_csv(\"data/outputs/estados_20161.csv\", sep=\";\")\n",
    "matr_2 = pd.read_csv(\"data/outputs/estados_20162.csv\", sep=\";\")"
   ]
  },
  {
   "cell_type": "code",
   "execution_count": 7,
   "metadata": {},
   "outputs": [
    {
     "data": {
      "text/plain": [
       "(396, 6)"
      ]
     },
     "execution_count": 7,
     "metadata": {},
     "output_type": "execute_result"
    }
   ],
   "source": [
    "semest_1 = matr_1[matr_1.hash == '6ECT2101ECT2102ECT2103ECT2104ECT2105ECT2106']\n",
    "semest_1.shape"
   ]
  },
  {
   "cell_type": "code",
   "execution_count": 12,
   "metadata": {},
   "outputs": [
    {
     "data": {
      "text/plain": [
       "(304, 6)"
      ]
     },
     "execution_count": 12,
     "metadata": {},
     "output_type": "execute_result"
    }
   ],
   "source": [
    "semest_2 = matr_2[matr_2.discente.isin(semest_1.discente)]\n",
    "semest_2.shape"
   ]
  },
  {
   "cell_type": "code",
   "execution_count": 23,
   "metadata": {},
   "outputs": [
    {
     "data": {
      "text/plain": [
       "hash\n",
       "7ECT2201ECT2202ECT2203ECT2204ECT2205ECT2206ECT2207           75\n",
       "6ECT2201ECT2202ECT2203ECT2204ECT2205ECT2302                  29\n",
       "8ECT2201ECT2202ECT2203ECT2204ECT2205ECT2206ECT2207ECT2305    12\n",
       "7ECT2101ECT2202ECT2203ECT2204ECT2205ECT2206ECT2207            7\n",
       "5ECT2103ECT2202ECT2203ECT2205ECT2206                          6\n",
       "4ECT2101ECT2102ECT2103ECT2104                                 5\n",
       "6ECT2101ECT2103ECT2202ECT2203ECT2205ECT2206                   5\n",
       "6ECT2103ECT2202ECT2203ECT2205ECT2206ECT2302                   5\n",
       "6ECT2201ECT2202ECT2203ECT2204ECT2205ECT2305                   5\n",
       "7ECT2103ECT2202ECT2203ECT2205ECT2206ECT2305ECT2306            4\n",
       "Name: codigo, dtype: int64"
      ]
     },
     "execution_count": 23,
     "metadata": {},
     "output_type": "execute_result"
    }
   ],
   "source": [
    "estado_atual = semest_2.groupby('hash').count()['codigo']\n",
    "estado_atual.sort_values(ascending=False).head(10)"
   ]
  },
  {
   "cell_type": "code",
   "execution_count": 25,
   "metadata": {},
   "outputs": [
    {
     "data": {
      "text/plain": [
       "hash\n",
       "7ECT2201ECT2202ECT2203ECT2204ECT2205ECT2206ECT2207           0.246711\n",
       "6ECT2201ECT2202ECT2203ECT2204ECT2205ECT2302                  0.095395\n",
       "8ECT2201ECT2202ECT2203ECT2204ECT2205ECT2206ECT2207ECT2305    0.039474\n",
       "7ECT2101ECT2202ECT2203ECT2204ECT2205ECT2206ECT2207           0.023026\n",
       "5ECT2103ECT2202ECT2203ECT2205ECT2206                         0.019737\n",
       "4ECT2101ECT2102ECT2103ECT2104                                0.016447\n",
       "6ECT2101ECT2103ECT2202ECT2203ECT2205ECT2206                  0.016447\n",
       "6ECT2103ECT2202ECT2203ECT2205ECT2206ECT2302                  0.016447\n",
       "6ECT2201ECT2202ECT2203ECT2204ECT2205ECT2305                  0.016447\n",
       "7ECT2103ECT2202ECT2203ECT2205ECT2206ECT2305ECT2306           0.013158\n",
       "Name: codigo, dtype: float64"
      ]
     },
     "execution_count": 25,
     "metadata": {},
     "output_type": "execute_result"
    }
   ],
   "source": [
    "media_estado_atual = estado_atual / semest_2.shape[0]\n",
    "media_estado_atual.sort_values(ascending=False).head(10)"
   ]
  },
  {
   "cell_type": "markdown",
   "metadata": {},
   "source": [
    "# Taxa de Aprovação 1º Semestre"
   ]
  },
  {
   "cell_type": "code",
   "execution_count": 29,
   "metadata": {},
   "outputs": [
    {
     "data": {
      "text/plain": [
       "0.6056397306397306"
      ]
     },
     "execution_count": 29,
     "metadata": {},
     "output_type": "execute_result"
    }
   ],
   "source": [
    "desempenho1 = semest_1[semest_1.hash == '6ECT2101ECT2102ECT2103ECT2104ECT2105ECT2106']\n",
    "desempenho1.tx_aprovacao.mean()"
   ]
  },
  {
   "cell_type": "code",
   "execution_count": 32,
   "metadata": {},
   "outputs": [
    {
     "name": "stdout",
     "output_type": "stream",
     "text": [
      "129 Foram aprovados em tudo de 396\n"
     ]
    }
   ],
   "source": [
    "ap_tudo = desempenho1[desempenho1.tx_aprovacao == 1.0].shape[0]\n",
    "total = desempenho1.shape[0]\n",
    "print(str(ap_tudo) + \" Foram aprovados em tudo de \" + str(total))"
   ]
  },
  {
   "cell_type": "markdown",
   "metadata": {},
   "source": [
    "## Analisando Desempenho de quem passou em tudo"
   ]
  },
  {
   "cell_type": "code",
   "execution_count": 34,
   "metadata": {},
   "outputs": [
    {
     "data": {
      "text/plain": [
       "0.8038095238095238"
      ]
     },
     "execution_count": 34,
     "metadata": {},
     "output_type": "execute_result"
    }
   ],
   "source": [
    "desempenho = semest_2[semest_2.hash == '7ECT2201ECT2202ECT2203ECT2204ECT2205ECT2206ECT2207']\n",
    "desempenho.tx_aprovacao.mean()"
   ]
  },
  {
   "cell_type": "code",
   "execution_count": 35,
   "metadata": {},
   "outputs": [
    {
     "name": "stdout",
     "output_type": "stream",
     "text": [
      "38 Foram aprovados em tudo de 75\n"
     ]
    }
   ],
   "source": [
    "ap_tudo = desempenho[desempenho.tx_aprovacao == 1.0].shape[0]\n",
    "total = desempenho.shape[0]\n",
    "print(str(ap_tudo) + \" Foram aprovados em tudo de \" + str(total))"
   ]
  },
  {
   "cell_type": "code",
   "execution_count": 36,
   "metadata": {},
   "outputs": [
    {
     "name": "stdout",
     "output_type": "stream",
     "text": [
      "Probabilidade de Sucesso em todas as disciplinas: 0.5066666666666667\n"
     ]
    }
   ],
   "source": [
    "print(\"Probabilidade de Sucesso em todas as disciplinas: \"+str(ap_tudo/total))"
   ]
  },
  {
   "cell_type": "markdown",
   "metadata": {},
   "source": [
    "## Próximos passos\n",
    "- Análise de todos os estados\n",
    "- Agrupamentos dos estados\n",
    "- Utilização da *Cadeia de Markov*"
   ]
  }
 ],
 "metadata": {
  "kernelspec": {
   "display_name": "Python 3",
   "language": "python",
   "name": "python3"
  },
  "language_info": {
   "codemirror_mode": {
    "name": "ipython",
    "version": 3
   },
   "file_extension": ".py",
   "mimetype": "text/x-python",
   "name": "python",
   "nbconvert_exporter": "python",
   "pygments_lexer": "ipython3",
   "version": "3.6.6"
  }
 },
 "nbformat": 4,
 "nbformat_minor": 2
}
