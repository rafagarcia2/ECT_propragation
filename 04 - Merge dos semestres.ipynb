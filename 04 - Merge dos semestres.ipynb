{
 "cells": [
  {
   "cell_type": "markdown",
   "metadata": {},
   "source": [
    "# Realizando o merge entre os semestres\n",
    "## Objetivo\n",
    "Esse notebook tem como fim fazer a junção entre vários semestre diferentes de C&T, começando em 2016.1\n",
    "\n",
    "O motivo da escolha por 2016.1 é a mudança da grade curricular que entrou em vigor nesse semestre."
   ]
  },
  {
   "cell_type": "code",
   "execution_count": 1,
   "metadata": {},
   "outputs": [],
   "source": [
    "import pandas as pd\n",
    "import numpy as np"
   ]
  },
  {
   "cell_type": "code",
   "execution_count": 2,
   "metadata": {},
   "outputs": [],
   "source": [
    "df_matr_20161 = pd.read_csv(\"data/outputs/estados_20161.csv\", sep=\";\")\n",
    "df_matr_20162 = pd.read_csv(\"data/outputs/estados_20162.csv\", sep=\";\")\n",
    "df_matr_20171 = pd.read_csv(\"data/outputs/estados_20171.csv\", sep=\";\")\n",
    "df_matr_20172 = pd.read_csv(\"data/outputs/estados_20172.csv\", sep=\";\")"
   ]
  },
  {
   "cell_type": "markdown",
   "metadata": {},
   "source": [
    "## Tratando Estado"
   ]
  },
  {
   "cell_type": "code",
   "execution_count": 19,
   "metadata": {},
   "outputs": [],
   "source": [
    "matr = df_matr_20172"
   ]
  },
  {
   "cell_type": "code",
   "execution_count": 20,
   "metadata": {},
   "outputs": [],
   "source": [
    "estados_matr = pd.DataFrame()\n",
    "estados_matr['hash'] = matr.groupby('hash').count()['discente'].index\n",
    "estados_matr['qnt_discentes'] = matr.groupby('hash').count()['discente'].values"
   ]
  },
  {
   "cell_type": "code",
   "execution_count": 21,
   "metadata": {},
   "outputs": [],
   "source": [
    "estados_matr['tx_aprovacao'] = matr.groupby('hash').mean()['tx_aprovacao'].values\n",
    "estados_matr['periodo'] = matr.groupby('hash').mean()['ano_periodo'].values"
   ]
  },
  {
   "cell_type": "markdown",
   "metadata": {},
   "source": [
    "## Realiando o Merge"
   ]
  },
  {
   "cell_type": "code",
   "execution_count": 6,
   "metadata": {},
   "outputs": [],
   "source": [
    "# DataFrame Geral de Estados\n",
    "# ------ só roda uma vez ----\n",
    "\n",
    "estados_geral = pd.DataFrame(columns=estados_matr.columns)"
   ]
  },
  {
   "cell_type": "code",
   "execution_count": 22,
   "metadata": {},
   "outputs": [],
   "source": [
    "estados_geral = pd.concat([estados_geral, estados_matr])"
   ]
  },
  {
   "cell_type": "code",
   "execution_count": 24,
   "metadata": {},
   "outputs": [
    {
     "data": {
      "text/plain": [
       "(4470, 4)"
      ]
     },
     "execution_count": 24,
     "metadata": {},
     "output_type": "execute_result"
    }
   ],
   "source": [
    "estados_geral.shape"
   ]
  },
  {
   "cell_type": "code",
   "execution_count": 25,
   "metadata": {},
   "outputs": [],
   "source": [
    "estados_geral.to_csv(\"data/outputs/estados_processados/estados_final.csv\", sep=\";\")"
   ]
  }
 ],
 "metadata": {
  "kernelspec": {
   "display_name": "Python 3",
   "language": "python",
   "name": "python3"
  },
  "language_info": {
   "codemirror_mode": {
    "name": "ipython",
    "version": 3
   },
   "file_extension": ".py",
   "mimetype": "text/x-python",
   "name": "python",
   "nbconvert_exporter": "python",
   "pygments_lexer": "ipython3",
   "version": "3.6.6"
  }
 },
 "nbformat": 4,
 "nbformat_minor": 2
}
