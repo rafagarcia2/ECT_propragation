{
 "cells": [
  {
   "cell_type": "markdown",
   "metadata": {},
   "source": [
    "# Agrupandos dos diferentes estados dos alunos de C&T\n",
    "## objetivo\n",
    "O objetivo desse notebook é lista todos os estados possíveis de um aluno em C&T, tendo como vista\n",
    "as materias que ele pode pagar nesse curso. Serão listadas apenas as disciplinas oferecidas pelo departamento, \n",
    "tendo em vista que o objetivo é listar os primeiros semestres, onde ainda não há uma necessidade tão \n",
    "grande de pagar matérias em outros departamentos."
   ]
  },
  {
   "cell_type": "markdown",
   "metadata": {},
   "source": [
    "## Definição de Estado\n",
    "Um Estado é formado pelo conjunto de disciplinas que o discente está pagando naquele semestre, assim, haverá um\n",
    "estado para cada possibilidade possível de disciplinas. Os estados com menor adesão serão tidos como outlies e \n",
    "não serão utilizados na aplicação do algoritmo."
   ]
  },
  {
   "cell_type": "code",
   "execution_count": 1,
   "metadata": {},
   "outputs": [],
   "source": [
    "import pandas as pd\n",
    "import numpy as np"
   ]
  },
  {
   "cell_type": "code",
   "execution_count": 121,
   "metadata": {},
   "outputs": [],
   "source": [
    "matr = pd.read_csv(\"data/outputs/matr_final_20162.csv\", sep=\";\")"
   ]
  },
  {
   "cell_type": "code",
   "execution_count": 107,
   "metadata": {},
   "outputs": [
    {
     "data": {
      "text/html": [
       "<div>\n",
       "<style scoped>\n",
       "    .dataframe tbody tr th:only-of-type {\n",
       "        vertical-align: middle;\n",
       "    }\n",
       "\n",
       "    .dataframe tbody tr th {\n",
       "        vertical-align: top;\n",
       "    }\n",
       "\n",
       "    .dataframe thead th {\n",
       "        text-align: right;\n",
       "    }\n",
       "</style>\n",
       "<table border=\"1\" class=\"dataframe\">\n",
       "  <thead>\n",
       "    <tr style=\"text-align: right;\">\n",
       "      <th></th>\n",
       "      <th>id_turma</th>\n",
       "      <th>discente</th>\n",
       "      <th>id_curso</th>\n",
       "      <th>media_final</th>\n",
       "      <th>numero_total_faltas</th>\n",
       "      <th>descricao</th>\n",
       "      <th>codigo</th>\n",
       "      <th>ano</th>\n",
       "      <th>periodo</th>\n",
       "    </tr>\n",
       "  </thead>\n",
       "  <tbody>\n",
       "    <tr>\n",
       "      <th>0</th>\n",
       "      <td>57576612</td>\n",
       "      <td>b74693d943171df25b0a502b522d4165</td>\n",
       "      <td>10320810.0</td>\n",
       "      <td>5.5</td>\n",
       "      <td>0.0</td>\n",
       "      <td>APROVADO POR NOTA</td>\n",
       "      <td>ECT2103</td>\n",
       "      <td>2016</td>\n",
       "      <td>1</td>\n",
       "    </tr>\n",
       "    <tr>\n",
       "      <th>1</th>\n",
       "      <td>57576612</td>\n",
       "      <td>a36def5f899c2f94c3e40b6144be51d7</td>\n",
       "      <td>10320810.0</td>\n",
       "      <td>0.5</td>\n",
       "      <td>20.0</td>\n",
       "      <td>REPROVADO</td>\n",
       "      <td>ECT2103</td>\n",
       "      <td>2016</td>\n",
       "      <td>1</td>\n",
       "    </tr>\n",
       "    <tr>\n",
       "      <th>2</th>\n",
       "      <td>57576612</td>\n",
       "      <td>a036073779ed35848a20788046f54bb5</td>\n",
       "      <td>10320810.0</td>\n",
       "      <td>5.0</td>\n",
       "      <td>0.0</td>\n",
       "      <td>APROVADO POR NOTA</td>\n",
       "      <td>ECT2103</td>\n",
       "      <td>2016</td>\n",
       "      <td>1</td>\n",
       "    </tr>\n",
       "    <tr>\n",
       "      <th>3</th>\n",
       "      <td>57576612</td>\n",
       "      <td>00d4dab41b0960fd67973cbe407130c8</td>\n",
       "      <td>10320810.0</td>\n",
       "      <td>6.1</td>\n",
       "      <td>0.0</td>\n",
       "      <td>APROVADO POR NOTA</td>\n",
       "      <td>ECT2103</td>\n",
       "      <td>2016</td>\n",
       "      <td>1</td>\n",
       "    </tr>\n",
       "    <tr>\n",
       "      <th>4</th>\n",
       "      <td>57576612</td>\n",
       "      <td>163e3a79d64656ae9744164dc019805c</td>\n",
       "      <td>10320810.0</td>\n",
       "      <td>5.0</td>\n",
       "      <td>0.0</td>\n",
       "      <td>APROVADO POR NOTA</td>\n",
       "      <td>ECT2103</td>\n",
       "      <td>2016</td>\n",
       "      <td>1</td>\n",
       "    </tr>\n",
       "  </tbody>\n",
       "</table>\n",
       "</div>"
      ],
      "text/plain": [
       "   id_turma                          discente    id_curso  media_final  \\\n",
       "0  57576612  b74693d943171df25b0a502b522d4165  10320810.0          5.5   \n",
       "1  57576612  a36def5f899c2f94c3e40b6144be51d7  10320810.0          0.5   \n",
       "2  57576612  a036073779ed35848a20788046f54bb5  10320810.0          5.0   \n",
       "3  57576612  00d4dab41b0960fd67973cbe407130c8  10320810.0          6.1   \n",
       "4  57576612  163e3a79d64656ae9744164dc019805c  10320810.0          5.0   \n",
       "\n",
       "   numero_total_faltas          descricao   codigo   ano  periodo  \n",
       "0                  0.0  APROVADO POR NOTA  ECT2103  2016        1  \n",
       "1                 20.0          REPROVADO  ECT2103  2016        1  \n",
       "2                  0.0  APROVADO POR NOTA  ECT2103  2016        1  \n",
       "3                  0.0  APROVADO POR NOTA  ECT2103  2016        1  \n",
       "4                  0.0  APROVADO POR NOTA  ECT2103  2016        1  "
      ]
     },
     "execution_count": 107,
     "metadata": {},
     "output_type": "execute_result"
    }
   ],
   "source": [
    "matr.head()"
   ]
  },
  {
   "cell_type": "markdown",
   "metadata": {},
   "source": [
    "## Agrupando por Discentes\n",
    "Nesse passo, vamos agrupar as matriculas por discentes a fim de começar a mapear os estados e \n",
    "verificar possíveis outliers."
   ]
  },
  {
   "cell_type": "code",
   "execution_count": 9,
   "metadata": {},
   "outputs": [],
   "source": [
    "# matr.groupby('discente')['discente'].count().sort_values(ascending=False)"
   ]
  },
  {
   "cell_type": "code",
   "execution_count": 108,
   "metadata": {},
   "outputs": [
    {
     "data": {
      "text/plain": [
       "array(['APROVADO POR NOTA', 'REPROVADO', 'TRANCADO',\n",
       "       'REPROVADO POR MÉDIA E POR FALTAS', 'APROVADO',\n",
       "       'REPROVADO POR NOTA', 'REPROVADO POR FALTAS',\n",
       "       'REPROVADO POR NOTA E FALTA'], dtype=object)"
      ]
     },
     "execution_count": 108,
     "metadata": {},
     "output_type": "execute_result"
    }
   ],
   "source": [
    "matr.descricao.unique()"
   ]
  },
  {
   "cell_type": "code",
   "execution_count": 109,
   "metadata": {},
   "outputs": [],
   "source": [
    "matr.sort_values('codigo', ascending=True, inplace=True)"
   ]
  },
  {
   "cell_type": "code",
   "execution_count": 122,
   "metadata": {},
   "outputs": [],
   "source": [
    "simple_desc = {'REPROVADO POR MÉDIA E POR FALTAS': 'R', 'REPROVADO POR NOTA': 'R',\n",
    "                 'REPROVADO POR NOTA E FALTA': 'R',\n",
    "                 'REPROVADO POR FALTAS': 'R', 'REPROVADO': 'R',\n",
    "                'APROVADO POR NOTA': 'A', 'APROVADO': 'A', 'TRANCADO': 'T'}\n",
    "\n",
    "matr['descricao'] = matr['descricao'].map(simple_desc)"
   ]
  },
  {
   "cell_type": "code",
   "execution_count": 123,
   "metadata": {},
   "outputs": [],
   "source": [
    "group = matr[['discente', 'codigo', 'descricao']].groupby('discente')"
   ]
  },
  {
   "cell_type": "code",
   "execution_count": 124,
   "metadata": {},
   "outputs": [
    {
     "data": {
      "text/html": [
       "<div>\n",
       "<style scoped>\n",
       "    .dataframe tbody tr th:only-of-type {\n",
       "        vertical-align: middle;\n",
       "    }\n",
       "\n",
       "    .dataframe tbody tr th {\n",
       "        vertical-align: top;\n",
       "    }\n",
       "\n",
       "    .dataframe thead th {\n",
       "        text-align: right;\n",
       "    }\n",
       "</style>\n",
       "<table border=\"1\" class=\"dataframe\">\n",
       "  <thead>\n",
       "    <tr style=\"text-align: right;\">\n",
       "      <th></th>\n",
       "      <th>codigo</th>\n",
       "      <th>descricao</th>\n",
       "    </tr>\n",
       "    <tr>\n",
       "      <th>discente</th>\n",
       "      <th></th>\n",
       "      <th></th>\n",
       "    </tr>\n",
       "  </thead>\n",
       "  <tbody>\n",
       "    <tr>\n",
       "      <th>0010345ff1be7da25478b5a96c772616</th>\n",
       "      <td>ECT2303,ECT2305,ECT2306,ECT2302,ECT2201,ECT2204</td>\n",
       "      <td>R,A,A,A,R,A</td>\n",
       "    </tr>\n",
       "    <tr>\n",
       "      <th>0015133009a53469a2615e7dfa6d638a</th>\n",
       "      <td>ECT2401,ECT2306,ECT2411,ECT2412,ELE0701,ECT2206</td>\n",
       "      <td>R,A,R,R,A,R</td>\n",
       "    </tr>\n",
       "    <tr>\n",
       "      <th>002321f817fa95db1e0506e5320df513</th>\n",
       "      <td>ECT1503,ECT1504,ECT2304,ECT2502,ECT2402,ECT252...</td>\n",
       "      <td>R,A,R,R,R,T,R</td>\n",
       "    </tr>\n",
       "    <tr>\n",
       "      <th>003f2bc2c3179baf0bea21a6f3d64d0c</th>\n",
       "      <td>DEB1004,ECT2302,DEB0804,DEB0701,DEB0705</td>\n",
       "      <td>A,A,A,A,A</td>\n",
       "    </tr>\n",
       "    <tr>\n",
       "      <th>005826163b7c91f427b5b9e4b02edefd</th>\n",
       "      <td>ECT2102,ECT2201,ECT2304,ECT2206</td>\n",
       "      <td>R,R,R,A</td>\n",
       "    </tr>\n",
       "    <tr>\n",
       "      <th>005cdf6ddf92e14dfa387c87f3f6e946</th>\n",
       "      <td>ECT2104,ECT2105,ECT2106,ECT2101,ECT2102,ECT2103</td>\n",
       "      <td>A,A,A,A,A,A</td>\n",
       "    </tr>\n",
       "    <tr>\n",
       "      <th>009844fdf108330ba90263c37476db3b</th>\n",
       "      <td>MOR0070,DEB0604,DEB0504,DEB0503</td>\n",
       "      <td>A,A,A,A</td>\n",
       "    </tr>\n",
       "    <tr>\n",
       "      <th>00a54c3ed49fdd50c7dd248458255e17</th>\n",
       "      <td>ECT2203,ECT2104,ECT2302,ECT2102,ECT2103</td>\n",
       "      <td>R,A,A,A,R</td>\n",
       "    </tr>\n",
       "    <tr>\n",
       "      <th>00b4c9b8bd631422f6a05bad05774d2b</th>\n",
       "      <td>ECT2303,ECT2205,ECT2306,ECT2500,ECT2201,ECT230...</td>\n",
       "      <td>A,R,R,R,R,A,R,A</td>\n",
       "    </tr>\n",
       "    <tr>\n",
       "      <th>00c95b0e427b18e5443272c0c01549c3</th>\n",
       "      <td>DET0171,ECT2203,ECT2305,ECT2306,ECT2102,ECT210...</td>\n",
       "      <td>T,T,A,R,R,T,R</td>\n",
       "    </tr>\n",
       "    <tr>\n",
       "      <th>00d4dab41b0960fd67973cbe407130c8</th>\n",
       "      <td>ECT2205,ECT2305,ECT2302,ECT2101,ECT2202,ECT2204</td>\n",
       "      <td>A,A,A,A,A,T</td>\n",
       "    </tr>\n",
       "    <tr>\n",
       "      <th>00f01a37af37b2fad01a856844aeee6b</th>\n",
       "      <td>ECT2302,MEC1505,MEC1508,ECT2206,MEC1509</td>\n",
       "      <td>A,A,R,A,A</td>\n",
       "    </tr>\n",
       "    <tr>\n",
       "      <th>00fbf36a995e4e56db6a1b3573780f59</th>\n",
       "      <td>ECT2302,ECT2525,DCA0103,ELE0701,DCA0100,DCA020...</td>\n",
       "      <td>A,R,A,A,A,A,A</td>\n",
       "    </tr>\n",
       "    <tr>\n",
       "      <th>011a9ba9e3300b9774c2422832e2e775</th>\n",
       "      <td>DEB0706,DEB1004,ECT2207,ECT2401,ECT2201</td>\n",
       "      <td>A,R,R,R,R</td>\n",
       "    </tr>\n",
       "    <tr>\n",
       "      <th>012bc06cbf8503d60f10917dc5e243c1</th>\n",
       "      <td>CIV0348,ECT2305,CIV1106,CIV1101</td>\n",
       "      <td>A,A,A,A</td>\n",
       "    </tr>\n",
       "    <tr>\n",
       "      <th>014d0049a66c06dd7b4b97d25b5530c3</th>\n",
       "      <td>ECT2303,ECT2305,ECT2500,ECT2304,ECT2204,ECT230...</td>\n",
       "      <td>A,A,A,A,A,R,A</td>\n",
       "    </tr>\n",
       "    <tr>\n",
       "      <th>015eb3a978d70ee070a21cb5f518ae39</th>\n",
       "      <td>ECT2104,ECT2105,ECT2106,ECT2101,ECT2102,ECT2103</td>\n",
       "      <td>A,A,A,A,A,A</td>\n",
       "    </tr>\n",
       "    <tr>\n",
       "      <th>0161582a530ad8ee8862fc59d60fe270</th>\n",
       "      <td>ECT2305,ECT2306,ECT2302</td>\n",
       "      <td>A,A,R</td>\n",
       "    </tr>\n",
       "    <tr>\n",
       "      <th>016bbd710b1768cbb76bfa9e329d92a5</th>\n",
       "      <td>ECT2104,ECT2105,ECT2106,ECT2101,ECT2102,ECT2103</td>\n",
       "      <td>A,A,A,A,A,A</td>\n",
       "    </tr>\n",
       "    <tr>\n",
       "      <th>016e08499aa227b0ee97167dcb41a8d9</th>\n",
       "      <td>ECT2207,ECT2203,ECT2205,ECT2201,ECT2202,ECT220...</td>\n",
       "      <td>R,A,R,A,A,A,R</td>\n",
       "    </tr>\n",
       "    <tr>\n",
       "      <th>017a8072747270d3291356eb8ebf59a5</th>\n",
       "      <td>ELE0500,MOR0070,DEB0601,DEB0604,DEB0504,DEB051...</td>\n",
       "      <td>R,R,A,A,A,R,A</td>\n",
       "    </tr>\n",
       "    <tr>\n",
       "      <th>01a1a27f64f5ed4069168bf2a437f06d</th>\n",
       "      <td>ECT2104,ECT2101,ECT2102,ECT2103</td>\n",
       "      <td>A,A,A,R</td>\n",
       "    </tr>\n",
       "    <tr>\n",
       "      <th>01bcec86f5d397b7c999465e642b80bc</th>\n",
       "      <td>ECT2401,ECT2302,ECT2413,ECT2403,ECT2414,ECT2206</td>\n",
       "      <td>A,A,A,A,R,A</td>\n",
       "    </tr>\n",
       "    <tr>\n",
       "      <th>01c76c67ac828f6a1f607696d80e6406</th>\n",
       "      <td>ECT2104,ECT2105,ECT2106,ECT2101,ECT2102,ECT2103</td>\n",
       "      <td>A,A,A,A,A,A</td>\n",
       "    </tr>\n",
       "    <tr>\n",
       "      <th>01e5687c3be7d4a5ad6fc75b51e202c2</th>\n",
       "      <td>PTR0105,PTR0202,PTR0302,PTR0205</td>\n",
       "      <td>A,A,A,A</td>\n",
       "    </tr>\n",
       "    <tr>\n",
       "      <th>01f801943d53b7bc108b20043cfb38a0</th>\n",
       "      <td>ECT2104,ECT2105,ECT2106,ECT2101,ECT2102,ECT2103</td>\n",
       "      <td>R,A,A,A,A,R</td>\n",
       "    </tr>\n",
       "    <tr>\n",
       "      <th>0200f9a5a580fafbce1668df030da956</th>\n",
       "      <td>MTR0301,ECT2302,MTR0303,MTR0305,ECT2206</td>\n",
       "      <td>R,A,A,A,A</td>\n",
       "    </tr>\n",
       "    <tr>\n",
       "      <th>020b27b1c4f5a518e2141d0d77d210a2</th>\n",
       "      <td>DCA0108,ECT2302,DCA0105,ECT2412,ECT2414,ECT2206</td>\n",
       "      <td>A,A,R,A,A,A</td>\n",
       "    </tr>\n",
       "    <tr>\n",
       "      <th>02209f809703ce8fd6cde21455f66f00</th>\n",
       "      <td>ECT2207,ECT2303,ECT2303,ECT2302,ECT2204,ECT220...</td>\n",
       "      <td>R,T,A,A,T,A,A</td>\n",
       "    </tr>\n",
       "    <tr>\n",
       "      <th>0235fc0276acd48fe7fa78fe15c3eca1</th>\n",
       "      <td>ECT2104,ECT2105,ECT2106,ECT2101,ECT2102,ECT2103</td>\n",
       "      <td>R,A,R,R,A,R</td>\n",
       "    </tr>\n",
       "    <tr>\n",
       "      <th>...</th>\n",
       "      <td>...</td>\n",
       "      <td>...</td>\n",
       "    </tr>\n",
       "    <tr>\n",
       "      <th>feab17e19d293fed4cf91da296b66aeb</th>\n",
       "      <td>ECT2401,ECT2411,ECT2416,ECT2304,ECT2307,ECT241...</td>\n",
       "      <td>R,A,A,A,A,A,A,R</td>\n",
       "    </tr>\n",
       "    <tr>\n",
       "      <th>feab801169f92c69823d87142cd2f05e</th>\n",
       "      <td>ECT2401,ECT2416,ECT2413,ECT2402,ECT2412,ECT2403</td>\n",
       "      <td>A,A,R,A,A,A</td>\n",
       "    </tr>\n",
       "    <tr>\n",
       "      <th>feb0cb827e1cd2d1f47d9209cc8717d0</th>\n",
       "      <td>ECT2306,ECT2304</td>\n",
       "      <td>A,R</td>\n",
       "    </tr>\n",
       "    <tr>\n",
       "      <th>feb6501fa6bad977bd1b62cbd3df7fec</th>\n",
       "      <td>FPE0087,ECT2303,PTR0101,PTR0102,PTR0103,PTR0104</td>\n",
       "      <td>A,A,A,A,A,A</td>\n",
       "    </tr>\n",
       "    <tr>\n",
       "      <th>febce75aacb598ca0395ccbfb28d4cc7</th>\n",
       "      <td>CIV1814,ECT2401,ECT2414,QUI1000,CIV1105</td>\n",
       "      <td>A,A,R,A,A</td>\n",
       "    </tr>\n",
       "    <tr>\n",
       "      <th>fed232855bd36da8686d2771a6b73ab7</th>\n",
       "      <td>ECT2303,ECT2205,ECT2106,ECT2302</td>\n",
       "      <td>A,R,A,R</td>\n",
       "    </tr>\n",
       "    <tr>\n",
       "      <th>fed8da2d9ec9bf4d505a3a391cd015cf</th>\n",
       "      <td>ECT2303,ECT2104,ECT2205,ECT2305,ECT2102,ECT2103</td>\n",
       "      <td>R,R,R,A,R,A</td>\n",
       "    </tr>\n",
       "    <tr>\n",
       "      <th>fed9e0b6352d01bf1ff295f037d4f0f7</th>\n",
       "      <td>DCA0203,ECT1405,DCA0104,DCA0120,DCA0204</td>\n",
       "      <td>A,A,A,A,A</td>\n",
       "    </tr>\n",
       "    <tr>\n",
       "      <th>fee2b7014d90b7079c99c722e07d131f</th>\n",
       "      <td>ECT2303,ECT2411,ECT2201,ECT2304,ECT2307</td>\n",
       "      <td>R,A,R,A,A</td>\n",
       "    </tr>\n",
       "    <tr>\n",
       "      <th>feff038a163b36ff9409c6dfca555f92</th>\n",
       "      <td>ECT2207,ECT2203,ECT2205,ECT2201,ECT2202,ECT220...</td>\n",
       "      <td>T,A,R,R,R,A,A</td>\n",
       "    </tr>\n",
       "    <tr>\n",
       "      <th>ff0c6b7b3c18fbab86089dace2b5675b</th>\n",
       "      <td>ECT2207,ECT2401,ECT2302,ECT2411,ECT2402,ECT2412</td>\n",
       "      <td>A,R,A,R,A,R</td>\n",
       "    </tr>\n",
       "    <tr>\n",
       "      <th>ff1e29f8ec9277e81fba89eee4260118</th>\n",
       "      <td>ECT2104,ECT2105,ECT2106,ECT2102,ECT2103</td>\n",
       "      <td>R,A,A,A,A</td>\n",
       "    </tr>\n",
       "    <tr>\n",
       "      <th>ff1ef23ede009879643cff0470e0ebc4</th>\n",
       "      <td>ECT2303,ECT2305,ECT2306,ECT2302,ECT2204,ECT2301</td>\n",
       "      <td>A,A,A,A,A,A</td>\n",
       "    </tr>\n",
       "    <tr>\n",
       "      <th>ff277a47e25108802d409de22bed579b</th>\n",
       "      <td>ECT2104,ECT2105,ECT2106,ECT2101,ECT2102,ECT2103</td>\n",
       "      <td>R,A,A,R,R,R</td>\n",
       "    </tr>\n",
       "    <tr>\n",
       "      <th>ff4225c633bfb8c33bf0babb3a5b956e</th>\n",
       "      <td>MEC1608,MEC1610,MEC1506,MEC1507,MEC1508,MEC1509</td>\n",
       "      <td>A,A,A,A,R,A</td>\n",
       "    </tr>\n",
       "    <tr>\n",
       "      <th>ff5b0347c5068c1b35c680eb72a39fd8</th>\n",
       "      <td>ECT2203,ECT2306,ECT2101,ECT2102,ECT2103</td>\n",
       "      <td>A,A,A,A,R</td>\n",
       "    </tr>\n",
       "    <tr>\n",
       "      <th>ff6bb0b6cb632b75f87e84f3b66d2947</th>\n",
       "      <td>ECT2207,ECT2203,ECT2104,ECT2201,ECT2204</td>\n",
       "      <td>R,A,R,R,R</td>\n",
       "    </tr>\n",
       "    <tr>\n",
       "      <th>ff7f51a2ae164d106ef666ff2c277b1e</th>\n",
       "      <td>CIV0348,ECT2401,ECT1558,ECT2503,ECT1550</td>\n",
       "      <td>A,R,A,A,A</td>\n",
       "    </tr>\n",
       "    <tr>\n",
       "      <th>ff814b7304208dc021e527bbfc3e0d74</th>\n",
       "      <td>ECT2204,ECT2206</td>\n",
       "      <td>A,R</td>\n",
       "    </tr>\n",
       "    <tr>\n",
       "      <th>ffa3e83772fa2383771befb56a21fa7b</th>\n",
       "      <td>ECT2416,ECT2413,ECT2415,ECT2412,ECT2414</td>\n",
       "      <td>A,A,R,R,R</td>\n",
       "    </tr>\n",
       "    <tr>\n",
       "      <th>ffaaa8f26bd3ea773a52e443de8b3ba7</th>\n",
       "      <td>ECT2205,ECT2305,ECT2306,ECT2101,ECT2102,ECT2103</td>\n",
       "      <td>R,A,A,A,R,R</td>\n",
       "    </tr>\n",
       "    <tr>\n",
       "      <th>ffab0c04d3e03173943624597a9f6c02</th>\n",
       "      <td>ECT1566,ECT1553,ECT2402,ECT1312,ECT2403,ECT2601</td>\n",
       "      <td>A,A,A,R,A,A</td>\n",
       "    </tr>\n",
       "    <tr>\n",
       "      <th>ffadeab3ebcf703be543cb7ce2037fde</th>\n",
       "      <td>DEF0054,ECT2414,PTR0105,PTR0104,PTR0202,PTR0302</td>\n",
       "      <td>A,R,A,A,A,A</td>\n",
       "    </tr>\n",
       "    <tr>\n",
       "      <th>ffb7b904ab4eec741ee423353f363b27</th>\n",
       "      <td>ECT2413,ECT2402,ECT2412,ECT2403,ECT2301</td>\n",
       "      <td>A,A,R,A,A</td>\n",
       "    </tr>\n",
       "    <tr>\n",
       "      <th>ffc4e95fb7f2cff6fee21767d81010a2</th>\n",
       "      <td>ECT2207,ECT2303,ECT2416,ECT2304,ECT2402,ECT241...</td>\n",
       "      <td>A,R,A,R,R,R,R</td>\n",
       "    </tr>\n",
       "    <tr>\n",
       "      <th>ffc61fd42a8d25039dc556850380ad09</th>\n",
       "      <td>ECT2207,ECT2104,ECT2306,ECT2201,ECT2202</td>\n",
       "      <td>R,R,R,R,R</td>\n",
       "    </tr>\n",
       "    <tr>\n",
       "      <th>ffeafa5170c693e31a4e8da4cae42313</th>\n",
       "      <td>ECT2207,ECT2203,ECT2305,ECT2306,ECT2302,ECT220...</td>\n",
       "      <td>A,R,A,A,A,A,R,A</td>\n",
       "    </tr>\n",
       "    <tr>\n",
       "      <th>ffee30602d53fda08b72efcb84e137e6</th>\n",
       "      <td>ECT2105,ECT2106</td>\n",
       "      <td>A,A</td>\n",
       "    </tr>\n",
       "    <tr>\n",
       "      <th>fff42796a17f503b99e173928c46aab2</th>\n",
       "      <td>ECT2203,ECT2302,ECT2411,ECT2402,ECT2412,ECT240...</td>\n",
       "      <td>A,A,A,A,T,A,A</td>\n",
       "    </tr>\n",
       "    <tr>\n",
       "      <th>fff8c402febf8217f10b5c1e57dfb522</th>\n",
       "      <td>ECT2207,ECT2203,ECT2305,ECT2500,ECT2201,ECT2204</td>\n",
       "      <td>A,A,A,A,A,A</td>\n",
       "    </tr>\n",
       "  </tbody>\n",
       "</table>\n",
       "<p>3082 rows × 2 columns</p>\n",
       "</div>"
      ],
      "text/plain": [
       "                                                                             codigo  \\\n",
       "discente                                                                              \n",
       "0010345ff1be7da25478b5a96c772616    ECT2303,ECT2305,ECT2306,ECT2302,ECT2201,ECT2204   \n",
       "0015133009a53469a2615e7dfa6d638a    ECT2401,ECT2306,ECT2411,ECT2412,ELE0701,ECT2206   \n",
       "002321f817fa95db1e0506e5320df513  ECT1503,ECT1504,ECT2304,ECT2502,ECT2402,ECT252...   \n",
       "003f2bc2c3179baf0bea21a6f3d64d0c            DEB1004,ECT2302,DEB0804,DEB0701,DEB0705   \n",
       "005826163b7c91f427b5b9e4b02edefd                    ECT2102,ECT2201,ECT2304,ECT2206   \n",
       "005cdf6ddf92e14dfa387c87f3f6e946    ECT2104,ECT2105,ECT2106,ECT2101,ECT2102,ECT2103   \n",
       "009844fdf108330ba90263c37476db3b                    MOR0070,DEB0604,DEB0504,DEB0503   \n",
       "00a54c3ed49fdd50c7dd248458255e17            ECT2203,ECT2104,ECT2302,ECT2102,ECT2103   \n",
       "00b4c9b8bd631422f6a05bad05774d2b  ECT2303,ECT2205,ECT2306,ECT2500,ECT2201,ECT230...   \n",
       "00c95b0e427b18e5443272c0c01549c3  DET0171,ECT2203,ECT2305,ECT2306,ECT2102,ECT210...   \n",
       "00d4dab41b0960fd67973cbe407130c8    ECT2205,ECT2305,ECT2302,ECT2101,ECT2202,ECT2204   \n",
       "00f01a37af37b2fad01a856844aeee6b            ECT2302,MEC1505,MEC1508,ECT2206,MEC1509   \n",
       "00fbf36a995e4e56db6a1b3573780f59  ECT2302,ECT2525,DCA0103,ELE0701,DCA0100,DCA020...   \n",
       "011a9ba9e3300b9774c2422832e2e775            DEB0706,DEB1004,ECT2207,ECT2401,ECT2201   \n",
       "012bc06cbf8503d60f10917dc5e243c1                    CIV0348,ECT2305,CIV1106,CIV1101   \n",
       "014d0049a66c06dd7b4b97d25b5530c3  ECT2303,ECT2305,ECT2500,ECT2304,ECT2204,ECT230...   \n",
       "015eb3a978d70ee070a21cb5f518ae39    ECT2104,ECT2105,ECT2106,ECT2101,ECT2102,ECT2103   \n",
       "0161582a530ad8ee8862fc59d60fe270                            ECT2305,ECT2306,ECT2302   \n",
       "016bbd710b1768cbb76bfa9e329d92a5    ECT2104,ECT2105,ECT2106,ECT2101,ECT2102,ECT2103   \n",
       "016e08499aa227b0ee97167dcb41a8d9  ECT2207,ECT2203,ECT2205,ECT2201,ECT2202,ECT220...   \n",
       "017a8072747270d3291356eb8ebf59a5  ELE0500,MOR0070,DEB0601,DEB0604,DEB0504,DEB051...   \n",
       "01a1a27f64f5ed4069168bf2a437f06d                    ECT2104,ECT2101,ECT2102,ECT2103   \n",
       "01bcec86f5d397b7c999465e642b80bc    ECT2401,ECT2302,ECT2413,ECT2403,ECT2414,ECT2206   \n",
       "01c76c67ac828f6a1f607696d80e6406    ECT2104,ECT2105,ECT2106,ECT2101,ECT2102,ECT2103   \n",
       "01e5687c3be7d4a5ad6fc75b51e202c2                    PTR0105,PTR0202,PTR0302,PTR0205   \n",
       "01f801943d53b7bc108b20043cfb38a0    ECT2104,ECT2105,ECT2106,ECT2101,ECT2102,ECT2103   \n",
       "0200f9a5a580fafbce1668df030da956            MTR0301,ECT2302,MTR0303,MTR0305,ECT2206   \n",
       "020b27b1c4f5a518e2141d0d77d210a2    DCA0108,ECT2302,DCA0105,ECT2412,ECT2414,ECT2206   \n",
       "02209f809703ce8fd6cde21455f66f00  ECT2207,ECT2303,ECT2303,ECT2302,ECT2204,ECT220...   \n",
       "0235fc0276acd48fe7fa78fe15c3eca1    ECT2104,ECT2105,ECT2106,ECT2101,ECT2102,ECT2103   \n",
       "...                                                                             ...   \n",
       "feab17e19d293fed4cf91da296b66aeb  ECT2401,ECT2411,ECT2416,ECT2304,ECT2307,ECT241...   \n",
       "feab801169f92c69823d87142cd2f05e    ECT2401,ECT2416,ECT2413,ECT2402,ECT2412,ECT2403   \n",
       "feb0cb827e1cd2d1f47d9209cc8717d0                                    ECT2306,ECT2304   \n",
       "feb6501fa6bad977bd1b62cbd3df7fec    FPE0087,ECT2303,PTR0101,PTR0102,PTR0103,PTR0104   \n",
       "febce75aacb598ca0395ccbfb28d4cc7            CIV1814,ECT2401,ECT2414,QUI1000,CIV1105   \n",
       "fed232855bd36da8686d2771a6b73ab7                    ECT2303,ECT2205,ECT2106,ECT2302   \n",
       "fed8da2d9ec9bf4d505a3a391cd015cf    ECT2303,ECT2104,ECT2205,ECT2305,ECT2102,ECT2103   \n",
       "fed9e0b6352d01bf1ff295f037d4f0f7            DCA0203,ECT1405,DCA0104,DCA0120,DCA0204   \n",
       "fee2b7014d90b7079c99c722e07d131f            ECT2303,ECT2411,ECT2201,ECT2304,ECT2307   \n",
       "feff038a163b36ff9409c6dfca555f92  ECT2207,ECT2203,ECT2205,ECT2201,ECT2202,ECT220...   \n",
       "ff0c6b7b3c18fbab86089dace2b5675b    ECT2207,ECT2401,ECT2302,ECT2411,ECT2402,ECT2412   \n",
       "ff1e29f8ec9277e81fba89eee4260118            ECT2104,ECT2105,ECT2106,ECT2102,ECT2103   \n",
       "ff1ef23ede009879643cff0470e0ebc4    ECT2303,ECT2305,ECT2306,ECT2302,ECT2204,ECT2301   \n",
       "ff277a47e25108802d409de22bed579b    ECT2104,ECT2105,ECT2106,ECT2101,ECT2102,ECT2103   \n",
       "ff4225c633bfb8c33bf0babb3a5b956e    MEC1608,MEC1610,MEC1506,MEC1507,MEC1508,MEC1509   \n",
       "ff5b0347c5068c1b35c680eb72a39fd8            ECT2203,ECT2306,ECT2101,ECT2102,ECT2103   \n",
       "ff6bb0b6cb632b75f87e84f3b66d2947            ECT2207,ECT2203,ECT2104,ECT2201,ECT2204   \n",
       "ff7f51a2ae164d106ef666ff2c277b1e            CIV0348,ECT2401,ECT1558,ECT2503,ECT1550   \n",
       "ff814b7304208dc021e527bbfc3e0d74                                    ECT2204,ECT2206   \n",
       "ffa3e83772fa2383771befb56a21fa7b            ECT2416,ECT2413,ECT2415,ECT2412,ECT2414   \n",
       "ffaaa8f26bd3ea773a52e443de8b3ba7    ECT2205,ECT2305,ECT2306,ECT2101,ECT2102,ECT2103   \n",
       "ffab0c04d3e03173943624597a9f6c02    ECT1566,ECT1553,ECT2402,ECT1312,ECT2403,ECT2601   \n",
       "ffadeab3ebcf703be543cb7ce2037fde    DEF0054,ECT2414,PTR0105,PTR0104,PTR0202,PTR0302   \n",
       "ffb7b904ab4eec741ee423353f363b27            ECT2413,ECT2402,ECT2412,ECT2403,ECT2301   \n",
       "ffc4e95fb7f2cff6fee21767d81010a2  ECT2207,ECT2303,ECT2416,ECT2304,ECT2402,ECT241...   \n",
       "ffc61fd42a8d25039dc556850380ad09            ECT2207,ECT2104,ECT2306,ECT2201,ECT2202   \n",
       "ffeafa5170c693e31a4e8da4cae42313  ECT2207,ECT2203,ECT2305,ECT2306,ECT2302,ECT220...   \n",
       "ffee30602d53fda08b72efcb84e137e6                                    ECT2105,ECT2106   \n",
       "fff42796a17f503b99e173928c46aab2  ECT2203,ECT2302,ECT2411,ECT2402,ECT2412,ECT240...   \n",
       "fff8c402febf8217f10b5c1e57dfb522    ECT2207,ECT2203,ECT2305,ECT2500,ECT2201,ECT2204   \n",
       "\n",
       "                                        descricao  \n",
       "discente                                           \n",
       "0010345ff1be7da25478b5a96c772616      R,A,A,A,R,A  \n",
       "0015133009a53469a2615e7dfa6d638a      R,A,R,R,A,R  \n",
       "002321f817fa95db1e0506e5320df513    R,A,R,R,R,T,R  \n",
       "003f2bc2c3179baf0bea21a6f3d64d0c        A,A,A,A,A  \n",
       "005826163b7c91f427b5b9e4b02edefd          R,R,R,A  \n",
       "005cdf6ddf92e14dfa387c87f3f6e946      A,A,A,A,A,A  \n",
       "009844fdf108330ba90263c37476db3b          A,A,A,A  \n",
       "00a54c3ed49fdd50c7dd248458255e17        R,A,A,A,R  \n",
       "00b4c9b8bd631422f6a05bad05774d2b  A,R,R,R,R,A,R,A  \n",
       "00c95b0e427b18e5443272c0c01549c3    T,T,A,R,R,T,R  \n",
       "00d4dab41b0960fd67973cbe407130c8      A,A,A,A,A,T  \n",
       "00f01a37af37b2fad01a856844aeee6b        A,A,R,A,A  \n",
       "00fbf36a995e4e56db6a1b3573780f59    A,R,A,A,A,A,A  \n",
       "011a9ba9e3300b9774c2422832e2e775        A,R,R,R,R  \n",
       "012bc06cbf8503d60f10917dc5e243c1          A,A,A,A  \n",
       "014d0049a66c06dd7b4b97d25b5530c3    A,A,A,A,A,R,A  \n",
       "015eb3a978d70ee070a21cb5f518ae39      A,A,A,A,A,A  \n",
       "0161582a530ad8ee8862fc59d60fe270            A,A,R  \n",
       "016bbd710b1768cbb76bfa9e329d92a5      A,A,A,A,A,A  \n",
       "016e08499aa227b0ee97167dcb41a8d9    R,A,R,A,A,A,R  \n",
       "017a8072747270d3291356eb8ebf59a5    R,R,A,A,A,R,A  \n",
       "01a1a27f64f5ed4069168bf2a437f06d          A,A,A,R  \n",
       "01bcec86f5d397b7c999465e642b80bc      A,A,A,A,R,A  \n",
       "01c76c67ac828f6a1f607696d80e6406      A,A,A,A,A,A  \n",
       "01e5687c3be7d4a5ad6fc75b51e202c2          A,A,A,A  \n",
       "01f801943d53b7bc108b20043cfb38a0      R,A,A,A,A,R  \n",
       "0200f9a5a580fafbce1668df030da956        R,A,A,A,A  \n",
       "020b27b1c4f5a518e2141d0d77d210a2      A,A,R,A,A,A  \n",
       "02209f809703ce8fd6cde21455f66f00    R,T,A,A,T,A,A  \n",
       "0235fc0276acd48fe7fa78fe15c3eca1      R,A,R,R,A,R  \n",
       "...                                           ...  \n",
       "feab17e19d293fed4cf91da296b66aeb  R,A,A,A,A,A,A,R  \n",
       "feab801169f92c69823d87142cd2f05e      A,A,R,A,A,A  \n",
       "feb0cb827e1cd2d1f47d9209cc8717d0              A,R  \n",
       "feb6501fa6bad977bd1b62cbd3df7fec      A,A,A,A,A,A  \n",
       "febce75aacb598ca0395ccbfb28d4cc7        A,A,R,A,A  \n",
       "fed232855bd36da8686d2771a6b73ab7          A,R,A,R  \n",
       "fed8da2d9ec9bf4d505a3a391cd015cf      R,R,R,A,R,A  \n",
       "fed9e0b6352d01bf1ff295f037d4f0f7        A,A,A,A,A  \n",
       "fee2b7014d90b7079c99c722e07d131f        R,A,R,A,A  \n",
       "feff038a163b36ff9409c6dfca555f92    T,A,R,R,R,A,A  \n",
       "ff0c6b7b3c18fbab86089dace2b5675b      A,R,A,R,A,R  \n",
       "ff1e29f8ec9277e81fba89eee4260118        R,A,A,A,A  \n",
       "ff1ef23ede009879643cff0470e0ebc4      A,A,A,A,A,A  \n",
       "ff277a47e25108802d409de22bed579b      R,A,A,R,R,R  \n",
       "ff4225c633bfb8c33bf0babb3a5b956e      A,A,A,A,R,A  \n",
       "ff5b0347c5068c1b35c680eb72a39fd8        A,A,A,A,R  \n",
       "ff6bb0b6cb632b75f87e84f3b66d2947        R,A,R,R,R  \n",
       "ff7f51a2ae164d106ef666ff2c277b1e        A,R,A,A,A  \n",
       "ff814b7304208dc021e527bbfc3e0d74              A,R  \n",
       "ffa3e83772fa2383771befb56a21fa7b        A,A,R,R,R  \n",
       "ffaaa8f26bd3ea773a52e443de8b3ba7      R,A,A,A,R,R  \n",
       "ffab0c04d3e03173943624597a9f6c02      A,A,A,R,A,A  \n",
       "ffadeab3ebcf703be543cb7ce2037fde      A,R,A,A,A,A  \n",
       "ffb7b904ab4eec741ee423353f363b27        A,A,R,A,A  \n",
       "ffc4e95fb7f2cff6fee21767d81010a2    A,R,A,R,R,R,R  \n",
       "ffc61fd42a8d25039dc556850380ad09        R,R,R,R,R  \n",
       "ffeafa5170c693e31a4e8da4cae42313  A,R,A,A,A,A,R,A  \n",
       "ffee30602d53fda08b72efcb84e137e6              A,A  \n",
       "fff42796a17f503b99e173928c46aab2    A,A,A,A,T,A,A  \n",
       "fff8c402febf8217f10b5c1e57dfb522      A,A,A,A,A,A  \n",
       "\n",
       "[3082 rows x 2 columns]"
      ]
     },
     "execution_count": 124,
     "metadata": {},
     "output_type": "execute_result"
    }
   ],
   "source": [
    "group.agg(lambda x: ','.join(x))"
   ]
  },
  {
   "cell_type": "markdown",
   "metadata": {},
   "source": [
    "## Criando os Estados\n",
    "Nesse passo, vamos criar os estados dos discentes, sendo verificado as disciplinas que estão sendo pagas e \n",
    "perando um hash para cada conjunto de disciplinas.\n",
    "\n",
    "Pode ser criado um discionários ou estrutura semelhante para armazenar os hashs que serão criados e agrupados."
   ]
  },
  {
   "cell_type": "code",
   "execution_count": 9,
   "metadata": {},
   "outputs": [
    {
     "data": {
      "text/plain": [
       "1477592985109038364"
      ]
     },
     "execution_count": 9,
     "metadata": {},
     "output_type": "execute_result"
    }
   ],
   "source": [
    "hash(str(['ECT2414', 'ECT0123', 'ECT1241']))"
   ]
  },
  {
   "cell_type": "code",
   "execution_count": 10,
   "metadata": {},
   "outputs": [],
   "source": [
    "def hash_situacao(descricao):\n",
    "    '''\n",
    "    Função para computar o resultado do discente no semestre.\n",
    "    '''\n",
    "    situacoes = list(descricao)\n",
    "    situacoes.replace"
   ]
  },
  {
   "cell_type": "code",
   "execution_count": 11,
   "metadata": {},
   "outputs": [],
   "source": [
    "def hash_disciplinas(disciplinas):\n",
    "    '''\n",
    "    Função que calcula um hash para as disciplinas. Assim será possível varer todos os estados possíveis.\n",
    "    \n",
    "    A função recebe uma lista de disciplinas e retorna um valor hash.\n",
    "    >>> hash_disciplinas(['ECT2414', 'ECT0123', 'ECT1241'])\n",
    "    '3-2914823815191669391'\n",
    "    '''\n",
    "    # O primeiro numero é a quantidade de disciplinas\n",
    "    hash_ = str(len(disciplinas))\n",
    "    \n",
    "    # Ordena o vetor de disciplinas e gera uma string dele\n",
    "    disc = list(disciplinas)\n",
    "    disc.sort()\n",
    "    hash_ += \"\".join(disc)\n",
    "    \n",
    "    return hash_"
   ]
  },
  {
   "cell_type": "code",
   "execution_count": 12,
   "metadata": {},
   "outputs": [
    {
     "data": {
      "text/plain": [
       "'3ECT0123ECT1241ECT2414'"
      ]
     },
     "execution_count": 12,
     "metadata": {},
     "output_type": "execute_result"
    }
   ],
   "source": [
    "hash_disciplinas(['ECT2414', 'ECT0123', 'ECT1241'])"
   ]
  },
  {
   "cell_type": "markdown",
   "metadata": {},
   "source": [
    "## Agrupando os discentes por Estado"
   ]
  },
  {
   "cell_type": "code",
   "execution_count": 91,
   "metadata": {},
   "outputs": [
    {
     "data": {
      "text/plain": [
       "pandas.core.frame.DataFrame"
      ]
     },
     "execution_count": 91,
     "metadata": {},
     "output_type": "execute_result"
    }
   ],
   "source": [
    "# Aplicando a função hash_disciplinas no nosso grupo\n",
    "\n",
    "estados = group.agg(hash_disciplinas)\n",
    "type(estados)"
   ]
  },
  {
   "cell_type": "code",
   "execution_count": 92,
   "metadata": {},
   "outputs": [
    {
     "data": {
      "text/plain": [
       "codigo\n",
       "6ECT2101ECT2102ECT2103ECT2104ECT2105ECT2106           381\n",
       "5ECT2102ECT2103ECT2104ECT2105ECT2106                   75\n",
       "7ECT2201ECT2202ECT2203ECT2204ECT2205ECT2206ECT2207     58\n",
       "6ECT2201ECT2202ECT2203ECT2204ECT2205ECT2302            27\n",
       "7ECT2301ECT2302ECT2303ECT2304ECT2305ECT2306ECT2307     21\n",
       "Name: codigo, dtype: int64"
      ]
     },
     "execution_count": 92,
     "metadata": {},
     "output_type": "execute_result"
    }
   ],
   "source": [
    "estados.groupby('codigo')['codigo'].count().sort_values(ascending=False).head(5)"
   ]
  },
  {
   "cell_type": "markdown",
   "metadata": {},
   "source": [
    "## Analisando só materias obrigatórias"
   ]
  },
  {
   "cell_type": "code",
   "execution_count": 125,
   "metadata": {},
   "outputs": [],
   "source": [
    "obrig_s1 = ['ECT2101', 'ECT2102', 'ECT2103', 'ECT2104', 'ECT2105', 'ECT2106']\n",
    "obrig_s2 = ['ECT2201', 'ECT2202', 'ECT2203', 'ECT2204', 'ECT2205', 'ECT2206', 'ECT2207']\n",
    "obrig_s3 = ['ECT2301', 'ECT2302', 'ECT2303', 'ECT2304', 'ECT2305', 'ECT2306', 'ECT2307']\n",
    "obrig_s4 = ['ECT2401', 'ECT2402', 'ECT2403', 'ECT2311', 'ECT2412', 'ECT2413', 'ECT2414']\n",
    "\n",
    "obrig = obrig_s1 + obrig_s2 + obrig_s3 + obrig_s4"
   ]
  },
  {
   "cell_type": "code",
   "execution_count": 126,
   "metadata": {},
   "outputs": [],
   "source": [
    "# Pegando apenas as matriculas em disciplinas obrigadorias\n",
    "matr_obrig = matr[matr.codigo.isin(obrig)]\n",
    "group_ob = matr_obrig[['discente', 'codigo', 'descricao']].groupby('discente')\n",
    "\n",
    "estados_ob = group_ob.agg(lambda x: ','.join(x))"
   ]
  },
  {
   "cell_type": "code",
   "execution_count": 127,
   "metadata": {},
   "outputs": [
    {
     "data": {
      "text/plain": [
       "codigo\n",
       "ECT2104,ECT2105,ECT2106,ECT2101,ECT2102,ECT2103            465\n",
       "ECT2302                                                     85\n",
       "ECT2207,ECT2203,ECT2205,ECT2201,ECT2202,ECT2204,ECT2206     84\n",
       "ECT2414                                                     55\n",
       "ECT2401,ECT2413,ECT2402,ECT2412,ECT2403                     34\n",
       "Name: codigo, dtype: int64"
      ]
     },
     "execution_count": 127,
     "metadata": {},
     "output_type": "execute_result"
    }
   ],
   "source": [
    "estados_ob.groupby('codigo')['codigo'].count().sort_values(ascending=False).head()"
   ]
  },
  {
   "cell_type": "markdown",
   "metadata": {},
   "source": [
    "## Adicionando outros atributos"
   ]
  },
  {
   "cell_type": "code",
   "execution_count": 128,
   "metadata": {},
   "outputs": [],
   "source": [
    "# Hash para disciplinas\n",
    "estados_ob['hash'] = group_ob.codigo.agg(hash_disciplinas)"
   ]
  },
  {
   "cell_type": "code",
   "execution_count": 129,
   "metadata": {},
   "outputs": [],
   "source": [
    "def periodo_ano(first):\n",
    "    #first = df.iloc[0]\n",
    "    return (str(first.ano) + str(first.periodo))\n",
    "\n",
    "estados_ob['ano_periodo'] = periodo_ano(matr.iloc[0])"
   ]
  },
  {
   "cell_type": "code",
   "execution_count": 130,
   "metadata": {},
   "outputs": [],
   "source": [
    "# Taxa de Aprovação\n",
    "estados_ob['tx_aprovacao'] = group_ob.descricao.apply(lambda x: list(x).count('A')/len(list(x)))"
   ]
  },
  {
   "cell_type": "markdown",
   "metadata": {},
   "source": [
    "# Exportando em csv"
   ]
  },
  {
   "cell_type": "code",
   "execution_count": 131,
   "metadata": {},
   "outputs": [],
   "source": [
    "estados_ob.to_csv(\"data/outputs/estados_20162.csv\", sep=\";\")"
   ]
  },
  {
   "cell_type": "code",
   "execution_count": 132,
   "metadata": {},
   "outputs": [],
   "source": [
    "# estados_ob"
   ]
  }
 ],
 "metadata": {
  "kernelspec": {
   "display_name": "Python 3",
   "language": "python",
   "name": "python3"
  },
  "language_info": {
   "codemirror_mode": {
    "name": "ipython",
    "version": 3
   },
   "file_extension": ".py",
   "mimetype": "text/x-python",
   "name": "python",
   "nbconvert_exporter": "python",
   "pygments_lexer": "ipython3",
   "version": "3.6.6"
  }
 },
 "nbformat": 4,
 "nbformat_minor": 2
}
