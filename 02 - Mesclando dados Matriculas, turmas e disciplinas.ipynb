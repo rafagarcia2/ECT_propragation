{
 "cells": [
  {
   "cell_type": "markdown",
   "metadata": {},
   "source": [
    "# Mesclando os dados de Matrículas, Turmas e Disciplinas\n",
    "## Objetivo\n",
    "Esse notebook visa pegar informações que relacionam turmas, matrículas e disciplinas para facilitar \n",
    "a visualização dos dados."
   ]
  },
  {
   "cell_type": "code",
   "execution_count": 16,
   "metadata": {},
   "outputs": [],
   "source": [
    "import pandas as pd"
   ]
  },
  {
   "cell_type": "code",
   "execution_count": 73,
   "metadata": {},
   "outputs": [],
   "source": [
    "matr = pd.read_csv(\"data/outputs/matriculas_cet_20162.csv\", sep=';')\n",
    "#disciplinas = pd.read_csv(\"data/componentes-curriculares-presenciais-ok.csv\", index_col=0)\n",
    "turmas = pd.read_csv(\"data/turmas-20162.csv\", sep=\";\")"
   ]
  },
  {
   "cell_type": "code",
   "execution_count": 74,
   "metadata": {},
   "outputs": [
    {
     "data": {
      "text/html": [
       "<div>\n",
       "<style scoped>\n",
       "    .dataframe tbody tr th:only-of-type {\n",
       "        vertical-align: middle;\n",
       "    }\n",
       "\n",
       "    .dataframe tbody tr th {\n",
       "        vertical-align: top;\n",
       "    }\n",
       "\n",
       "    .dataframe thead th {\n",
       "        text-align: right;\n",
       "    }\n",
       "</style>\n",
       "<table border=\"1\" class=\"dataframe\">\n",
       "  <thead>\n",
       "    <tr style=\"text-align: right;\">\n",
       "      <th></th>\n",
       "      <th>id_turma</th>\n",
       "      <th>discente</th>\n",
       "      <th>id_curso</th>\n",
       "      <th>media_final</th>\n",
       "      <th>numero_total_faltas</th>\n",
       "      <th>descricao</th>\n",
       "    </tr>\n",
       "  </thead>\n",
       "  <tbody>\n",
       "    <tr>\n",
       "      <th>0</th>\n",
       "      <td>57585877</td>\n",
       "      <td>3fd7f51046586f1778fbae1d167e93a2</td>\n",
       "      <td>10320810.0</td>\n",
       "      <td>9.6</td>\n",
       "      <td>6.0</td>\n",
       "      <td>APROVADO</td>\n",
       "    </tr>\n",
       "    <tr>\n",
       "      <th>1</th>\n",
       "      <td>57583833</td>\n",
       "      <td>972c641f5303e93483e5c318ef19e0cd</td>\n",
       "      <td>10320810.0</td>\n",
       "      <td>7.0</td>\n",
       "      <td>0.0</td>\n",
       "      <td>APROVADO</td>\n",
       "    </tr>\n",
       "    <tr>\n",
       "      <th>2</th>\n",
       "      <td>57583833</td>\n",
       "      <td>0d46d99c4063dc62d9a72f453cbd2cb2</td>\n",
       "      <td>10320810.0</td>\n",
       "      <td>6.0</td>\n",
       "      <td>0.0</td>\n",
       "      <td>APROVADO POR NOTA</td>\n",
       "    </tr>\n",
       "    <tr>\n",
       "      <th>3</th>\n",
       "      <td>57583833</td>\n",
       "      <td>ffadeab3ebcf703be543cb7ce2037fde</td>\n",
       "      <td>10320810.0</td>\n",
       "      <td>10.0</td>\n",
       "      <td>0.0</td>\n",
       "      <td>APROVADO</td>\n",
       "    </tr>\n",
       "    <tr>\n",
       "      <th>4</th>\n",
       "      <td>57583777</td>\n",
       "      <td>2f7d4f0d6372609a0859d6dfd9b78770</td>\n",
       "      <td>10320810.0</td>\n",
       "      <td>8.8</td>\n",
       "      <td>0.0</td>\n",
       "      <td>APROVADO</td>\n",
       "    </tr>\n",
       "  </tbody>\n",
       "</table>\n",
       "</div>"
      ],
      "text/plain": [
       "   id_turma                          discente    id_curso  media_final  \\\n",
       "0  57585877  3fd7f51046586f1778fbae1d167e93a2  10320810.0          9.6   \n",
       "1  57583833  972c641f5303e93483e5c318ef19e0cd  10320810.0          7.0   \n",
       "2  57583833  0d46d99c4063dc62d9a72f453cbd2cb2  10320810.0          6.0   \n",
       "3  57583833  ffadeab3ebcf703be543cb7ce2037fde  10320810.0         10.0   \n",
       "4  57583777  2f7d4f0d6372609a0859d6dfd9b78770  10320810.0          8.8   \n",
       "\n",
       "   numero_total_faltas          descricao  \n",
       "0                  6.0           APROVADO  \n",
       "1                  0.0           APROVADO  \n",
       "2                  0.0  APROVADO POR NOTA  \n",
       "3                  0.0           APROVADO  \n",
       "4                  0.0           APROVADO  "
      ]
     },
     "execution_count": 74,
     "metadata": {},
     "output_type": "execute_result"
    }
   ],
   "source": [
    "matr.head()"
   ]
  },
  {
   "cell_type": "code",
   "execution_count": 75,
   "metadata": {},
   "outputs": [
    {
     "data": {
      "text/html": [
       "<div>\n",
       "<style scoped>\n",
       "    .dataframe tbody tr th:only-of-type {\n",
       "        vertical-align: middle;\n",
       "    }\n",
       "\n",
       "    .dataframe tbody tr th {\n",
       "        vertical-align: top;\n",
       "    }\n",
       "\n",
       "    .dataframe thead th {\n",
       "        text-align: right;\n",
       "    }\n",
       "</style>\n",
       "<table border=\"1\" class=\"dataframe\">\n",
       "  <thead>\n",
       "    <tr style=\"text-align: right;\">\n",
       "      <th></th>\n",
       "      <th>id_turma</th>\n",
       "      <th>codigo</th>\n",
       "      <th>nome_ascii</th>\n",
       "      <th>docente_interno</th>\n",
       "      <th>docente_externo</th>\n",
       "      <th>nivel_ensino</th>\n",
       "      <th>ano</th>\n",
       "      <th>periodo</th>\n",
       "      <th>capacidade_aluno</th>\n",
       "      <th>local</th>\n",
       "      <th>...</th>\n",
       "      <th>distancia</th>\n",
       "      <th>tipo</th>\n",
       "      <th>data_consolidacao</th>\n",
       "      <th>agrupadora</th>\n",
       "      <th>qtd_aulas_lancadas</th>\n",
       "      <th>situacao_turma</th>\n",
       "      <th>convenio</th>\n",
       "      <th>modalidade_participantes</th>\n",
       "      <th>campus_turma</th>\n",
       "      <th>Unnamed: 24</th>\n",
       "    </tr>\n",
       "  </thead>\n",
       "  <tbody>\n",
       "    <tr>\n",
       "      <th>0</th>\n",
       "      <td>57581492</td>\n",
       "      <td>GPU0009</td>\n",
       "      <td>INOVACAO NA GESTAO DE POLITICAS PUBLICAS</td>\n",
       "      <td>29060d5df3696c9b7f975a9cd50c836a</td>\n",
       "      <td>NaN</td>\n",
       "      <td>LATO SENSU</td>\n",
       "      <td>2016</td>\n",
       "      <td>2</td>\n",
       "      <td>50.0</td>\n",
       "      <td>Escola de Governo do Estado do Rio Grande do N...</td>\n",
       "      <td>...</td>\n",
       "      <td>f</td>\n",
       "      <td>1</td>\n",
       "      <td>2016-10-05 08:43:06.182</td>\n",
       "      <td>f</td>\n",
       "      <td>30.0</td>\n",
       "      <td>CONSOLIDADA</td>\n",
       "      <td>NaN</td>\n",
       "      <td>Presencial</td>\n",
       "      <td>NaN</td>\n",
       "      <td>NaN</td>\n",
       "    </tr>\n",
       "    <tr>\n",
       "      <th>1</th>\n",
       "      <td>57583343</td>\n",
       "      <td>MUT311</td>\n",
       "      <td>APRECIACAO MUSICAL II</td>\n",
       "      <td>40831b01609dda6af0b3083ec69fefcd</td>\n",
       "      <td>NaN</td>\n",
       "      <td>TÉCNICO</td>\n",
       "      <td>2016</td>\n",
       "      <td>2</td>\n",
       "      <td>30.0</td>\n",
       "      <td>Sala 25</td>\n",
       "      <td>...</td>\n",
       "      <td>f</td>\n",
       "      <td>1</td>\n",
       "      <td>2016-12-15 23:53:48.42</td>\n",
       "      <td>f</td>\n",
       "      <td>72.0</td>\n",
       "      <td>CONSOLIDADA</td>\n",
       "      <td>NaN</td>\n",
       "      <td>Presencial</td>\n",
       "      <td>NaN</td>\n",
       "      <td>NaN</td>\n",
       "    </tr>\n",
       "  </tbody>\n",
       "</table>\n",
       "<p>2 rows × 25 columns</p>\n",
       "</div>"
      ],
      "text/plain": [
       "   id_turma   codigo                                nome_ascii  \\\n",
       "0  57581492  GPU0009  INOVACAO NA GESTAO DE POLITICAS PUBLICAS   \n",
       "1  57583343   MUT311                     APRECIACAO MUSICAL II   \n",
       "\n",
       "                    docente_interno docente_externo nivel_ensino   ano  \\\n",
       "0  29060d5df3696c9b7f975a9cd50c836a             NaN   LATO SENSU  2016   \n",
       "1  40831b01609dda6af0b3083ec69fefcd             NaN      TÉCNICO  2016   \n",
       "\n",
       "   periodo  capacidade_aluno  \\\n",
       "0        2              50.0   \n",
       "1        2              30.0   \n",
       "\n",
       "                                               local     ...      distancia  \\\n",
       "0  Escola de Governo do Estado do Rio Grande do N...     ...              f   \n",
       "1                                            Sala 25     ...              f   \n",
       "\n",
       "  tipo        data_consolidacao agrupadora qtd_aulas_lancadas situacao_turma  \\\n",
       "0    1  2016-10-05 08:43:06.182          f               30.0    CONSOLIDADA   \n",
       "1    1   2016-12-15 23:53:48.42          f               72.0    CONSOLIDADA   \n",
       "\n",
       "   convenio modalidade_participantes campus_turma  Unnamed: 24  \n",
       "0       NaN               Presencial          NaN          NaN  \n",
       "1       NaN               Presencial          NaN          NaN  \n",
       "\n",
       "[2 rows x 25 columns]"
      ]
     },
     "execution_count": 75,
     "metadata": {},
     "output_type": "execute_result"
    }
   ],
   "source": [
    "turmas.head(2)"
   ]
  },
  {
   "cell_type": "markdown",
   "metadata": {},
   "source": [
    "## Pegando só as colunas desejadas"
   ]
  },
  {
   "cell_type": "code",
   "execution_count": 76,
   "metadata": {},
   "outputs": [
    {
     "data": {
      "text/plain": [
       "Index(['id_turma', 'codigo', 'nome_ascii', 'docente_interno',\n",
       "       'docente_externo', 'nivel_ensino', 'ano', 'periodo', 'capacidade_aluno',\n",
       "       'local', 'data_inicio', 'data_fim', 'codigo_turma', 'descricao_horario',\n",
       "       'observacao', 'distancia', 'tipo', 'data_consolidacao', 'agrupadora',\n",
       "       'qtd_aulas_lancadas', 'situacao_turma', 'convenio',\n",
       "       'modalidade_participantes', 'campus_turma', 'Unnamed: 24'],\n",
       "      dtype='object')"
      ]
     },
     "execution_count": 76,
     "metadata": {},
     "output_type": "execute_result"
    }
   ],
   "source": [
    "turmas.columns"
   ]
  },
  {
   "cell_type": "code",
   "execution_count": 77,
   "metadata": {},
   "outputs": [],
   "source": [
    "cols = ['id_turma', 'codigo', 'ano', 'periodo']\n",
    "turmas = turmas[cols]"
   ]
  },
  {
   "cell_type": "markdown",
   "metadata": {},
   "source": [
    "## Realizando merge de Matriculas e Turmas"
   ]
  },
  {
   "cell_type": "code",
   "execution_count": 78,
   "metadata": {},
   "outputs": [
    {
     "data": {
      "text/plain": [
       "(16728, 6)"
      ]
     },
     "execution_count": 78,
     "metadata": {},
     "output_type": "execute_result"
    }
   ],
   "source": [
    "matr.shape"
   ]
  },
  {
   "cell_type": "code",
   "execution_count": 79,
   "metadata": {},
   "outputs": [
    {
     "data": {
      "text/plain": [
       "(20266, 9)"
      ]
     },
     "execution_count": 79,
     "metadata": {},
     "output_type": "execute_result"
    }
   ],
   "source": [
    "matriculas = matr.merge(turmas, how='left', left_on='id_turma', right_on='id_turma')\n",
    "matriculas.shape"
   ]
  },
  {
   "cell_type": "code",
   "execution_count": 80,
   "metadata": {},
   "outputs": [
    {
     "data": {
      "text/plain": [
       "(16728, 9)"
      ]
     },
     "execution_count": 80,
     "metadata": {},
     "output_type": "execute_result"
    }
   ],
   "source": [
    "matriculas = matriculas.drop_duplicates()\n",
    "matriculas.shape"
   ]
  },
  {
   "cell_type": "code",
   "execution_count": 82,
   "metadata": {},
   "outputs": [],
   "source": [
    "# matr_ect.groupby('nome')['nome'].count().sort_values(ascending=False)"
   ]
  },
  {
   "cell_type": "markdown",
   "metadata": {},
   "source": [
    "## Exportando os dados"
   ]
  },
  {
   "cell_type": "code",
   "execution_count": 83,
   "metadata": {},
   "outputs": [],
   "source": [
    "matriculas.to_csv(\"data/outputs/matr_final_20162.csv\", sep=\";\", index=False)"
   ]
  }
 ],
 "metadata": {
  "kernelspec": {
   "display_name": "Python 3",
   "language": "python",
   "name": "python3"
  },
  "language_info": {
   "codemirror_mode": {
    "name": "ipython",
    "version": 3
   },
   "file_extension": ".py",
   "mimetype": "text/x-python",
   "name": "python",
   "nbconvert_exporter": "python",
   "pygments_lexer": "ipython3",
   "version": "3.6.6"
  }
 },
 "nbformat": 4,
 "nbformat_minor": 2
}
